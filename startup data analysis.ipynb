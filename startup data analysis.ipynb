{
 "cells": [
  {
   "cell_type": "code",
   "execution_count": 1,
   "metadata": {},
   "outputs": [
    {
     "data": {
      "text/html": [
       "<div>\n",
       "<style scoped>\n",
       "    .dataframe tbody tr th:only-of-type {\n",
       "        vertical-align: middle;\n",
       "    }\n",
       "\n",
       "    .dataframe tbody tr th {\n",
       "        vertical-align: top;\n",
       "    }\n",
       "\n",
       "    .dataframe thead th {\n",
       "        text-align: right;\n",
       "    }\n",
       "</style>\n",
       "<table border=\"1\" class=\"dataframe\">\n",
       "  <thead>\n",
       "    <tr style=\"text-align: right;\">\n",
       "      <th></th>\n",
       "      <th>SNo</th>\n",
       "      <th>Date</th>\n",
       "      <th>StartupName</th>\n",
       "      <th>IndustryVertical</th>\n",
       "      <th>SubVertical</th>\n",
       "      <th>CityLocation</th>\n",
       "      <th>InvestorsName</th>\n",
       "      <th>InvestmentType</th>\n",
       "      <th>AmountInUSD</th>\n",
       "      <th>Remarks</th>\n",
       "    </tr>\n",
       "  </thead>\n",
       "  <tbody>\n",
       "    <tr>\n",
       "      <th>0</th>\n",
       "      <td>0</td>\n",
       "      <td>01/08/2017</td>\n",
       "      <td>TouchKin</td>\n",
       "      <td>Technology</td>\n",
       "      <td>Predictive Care Platform</td>\n",
       "      <td>Bangalore</td>\n",
       "      <td>Kae Capital</td>\n",
       "      <td>Private Equity</td>\n",
       "      <td>1,300,000</td>\n",
       "      <td>NaN</td>\n",
       "    </tr>\n",
       "    <tr>\n",
       "      <th>1</th>\n",
       "      <td>1</td>\n",
       "      <td>02/08/2017</td>\n",
       "      <td>Ethinos</td>\n",
       "      <td>Technology</td>\n",
       "      <td>Digital Marketing Agency</td>\n",
       "      <td>Mumbai</td>\n",
       "      <td>Triton Investment Advisors</td>\n",
       "      <td>Private Equity</td>\n",
       "      <td>NaN</td>\n",
       "      <td>NaN</td>\n",
       "    </tr>\n",
       "    <tr>\n",
       "      <th>2</th>\n",
       "      <td>2</td>\n",
       "      <td>02/08/2017</td>\n",
       "      <td>Leverage Edu</td>\n",
       "      <td>Consumer Internet</td>\n",
       "      <td>Online platform for Higher Education Services</td>\n",
       "      <td>New Delhi</td>\n",
       "      <td>Kashyap Deorah, Anand Sankeshwar, Deepak Jain,...</td>\n",
       "      <td>Seed Funding</td>\n",
       "      <td>NaN</td>\n",
       "      <td>NaN</td>\n",
       "    </tr>\n",
       "    <tr>\n",
       "      <th>3</th>\n",
       "      <td>3</td>\n",
       "      <td>02/08/2017</td>\n",
       "      <td>Zepo</td>\n",
       "      <td>Consumer Internet</td>\n",
       "      <td>DIY Ecommerce platform</td>\n",
       "      <td>Mumbai</td>\n",
       "      <td>Kunal Shah, LetsVenture, Anupam Mittal, Hetal ...</td>\n",
       "      <td>Seed Funding</td>\n",
       "      <td>500,000</td>\n",
       "      <td>NaN</td>\n",
       "    </tr>\n",
       "    <tr>\n",
       "      <th>4</th>\n",
       "      <td>4</td>\n",
       "      <td>02/08/2017</td>\n",
       "      <td>Click2Clinic</td>\n",
       "      <td>Consumer Internet</td>\n",
       "      <td>healthcare service aggregator</td>\n",
       "      <td>Hyderabad</td>\n",
       "      <td>Narottam Thudi, Shireesh Palle</td>\n",
       "      <td>Seed Funding</td>\n",
       "      <td>850,000</td>\n",
       "      <td>NaN</td>\n",
       "    </tr>\n",
       "    <tr>\n",
       "      <th>5</th>\n",
       "      <td>5</td>\n",
       "      <td>01/07/2017</td>\n",
       "      <td>Billion Loans</td>\n",
       "      <td>Consumer Internet</td>\n",
       "      <td>Peer to Peer Lending platform</td>\n",
       "      <td>Bangalore</td>\n",
       "      <td>Reliance Corporate Advisory Services Ltd</td>\n",
       "      <td>Seed Funding</td>\n",
       "      <td>1,000,000</td>\n",
       "      <td>NaN</td>\n",
       "    </tr>\n",
       "    <tr>\n",
       "      <th>6</th>\n",
       "      <td>6</td>\n",
       "      <td>03/07/2017</td>\n",
       "      <td>Ecolibriumenergy</td>\n",
       "      <td>Technology</td>\n",
       "      <td>Energy management solutions provider</td>\n",
       "      <td>Ahmedabad</td>\n",
       "      <td>Infuse Ventures, JLL</td>\n",
       "      <td>Private Equity</td>\n",
       "      <td>2,600,000</td>\n",
       "      <td>NaN</td>\n",
       "    </tr>\n",
       "    <tr>\n",
       "      <th>7</th>\n",
       "      <td>7</td>\n",
       "      <td>04/07/2017</td>\n",
       "      <td>Droom</td>\n",
       "      <td>eCommerce</td>\n",
       "      <td>Online marketplace for automobiles</td>\n",
       "      <td>Gurgaon</td>\n",
       "      <td>Asset Management (Asia) Ltd, Digital Garage Inc</td>\n",
       "      <td>Private Equity</td>\n",
       "      <td>20,000,000</td>\n",
       "      <td>NaN</td>\n",
       "    </tr>\n",
       "    <tr>\n",
       "      <th>8</th>\n",
       "      <td>8</td>\n",
       "      <td>05/07/2017</td>\n",
       "      <td>Jumbotail</td>\n",
       "      <td>eCommerce</td>\n",
       "      <td>online marketplace for food and grocery</td>\n",
       "      <td>Bangalore</td>\n",
       "      <td>Kalaari Capital, Nexus India Capital Advisors</td>\n",
       "      <td>Private Equity</td>\n",
       "      <td>8,500,000</td>\n",
       "      <td>NaN</td>\n",
       "    </tr>\n",
       "    <tr>\n",
       "      <th>9</th>\n",
       "      <td>9</td>\n",
       "      <td>05/07/2017</td>\n",
       "      <td>Moglix</td>\n",
       "      <td>eCommerce</td>\n",
       "      <td>B2B marketplace for Industrial products</td>\n",
       "      <td>Noida</td>\n",
       "      <td>International Finance Corporation, Rocketship,...</td>\n",
       "      <td>Private Equity</td>\n",
       "      <td>12,000,000</td>\n",
       "      <td>NaN</td>\n",
       "    </tr>\n",
       "    <tr>\n",
       "      <th>10</th>\n",
       "      <td>10</td>\n",
       "      <td>05/07/2017</td>\n",
       "      <td>Timesaverz</td>\n",
       "      <td>Consumer Internet</td>\n",
       "      <td>Hyperlocal home services provider</td>\n",
       "      <td>Mumbai</td>\n",
       "      <td>BCCL</td>\n",
       "      <td>Private Equity</td>\n",
       "      <td>1,000,000</td>\n",
       "      <td>NaN</td>\n",
       "    </tr>\n",
       "    <tr>\n",
       "      <th>11</th>\n",
       "      <td>11</td>\n",
       "      <td>06/07/2017</td>\n",
       "      <td>Minjar</td>\n",
       "      <td>Technology</td>\n",
       "      <td>Cloud Solutions provider</td>\n",
       "      <td>Bangalore</td>\n",
       "      <td>Blume Ventures, Contrarian Capital India Partn...</td>\n",
       "      <td>Seed Funding</td>\n",
       "      <td>NaN</td>\n",
       "      <td>NaN</td>\n",
       "    </tr>\n",
       "    <tr>\n",
       "      <th>12</th>\n",
       "      <td>12</td>\n",
       "      <td>06/07/2017</td>\n",
       "      <td>MyCity4kids</td>\n",
       "      <td>Consumer Internet</td>\n",
       "      <td>parenting blog and kids’ events discovery plat...</td>\n",
       "      <td>Gurgaon</td>\n",
       "      <td>various</td>\n",
       "      <td>Seed Funding</td>\n",
       "      <td>NaN</td>\n",
       "      <td>NaN</td>\n",
       "    </tr>\n",
       "    <tr>\n",
       "      <th>13</th>\n",
       "      <td>13</td>\n",
       "      <td>07/07/2017</td>\n",
       "      <td>Clip App</td>\n",
       "      <td>Consumer Internet</td>\n",
       "      <td>Digital Media Video platform</td>\n",
       "      <td>Bangalore</td>\n",
       "      <td>India Quotient, Shunwei Capital</td>\n",
       "      <td>Seed Funding</td>\n",
       "      <td>1,000,000</td>\n",
       "      <td>NaN</td>\n",
       "    </tr>\n",
       "    <tr>\n",
       "      <th>14</th>\n",
       "      <td>14</td>\n",
       "      <td>07/07/2017</td>\n",
       "      <td>Upwardly.in</td>\n",
       "      <td>Consumer Internet</td>\n",
       "      <td>MF investment platform</td>\n",
       "      <td>Bangalore</td>\n",
       "      <td>Sreeram Iyer, Suvo Sarkar, Anita Gupta, Likemi...</td>\n",
       "      <td>Seed Funding</td>\n",
       "      <td>NaN</td>\n",
       "      <td>NaN</td>\n",
       "    </tr>\n",
       "    <tr>\n",
       "      <th>15</th>\n",
       "      <td>15</td>\n",
       "      <td>10/07/2017</td>\n",
       "      <td>Autorox.co</td>\n",
       "      <td>Technology</td>\n",
       "      <td>Workshop Management Software Platform</td>\n",
       "      <td>Hyderabad</td>\n",
       "      <td>Mitsui &amp; Co.</td>\n",
       "      <td>Private Equity</td>\n",
       "      <td>3,000,000</td>\n",
       "      <td>NaN</td>\n",
       "    </tr>\n",
       "    <tr>\n",
       "      <th>16</th>\n",
       "      <td>16</td>\n",
       "      <td>11/07/2017</td>\n",
       "      <td>Fabogo</td>\n",
       "      <td>Consumer Internet</td>\n",
       "      <td>Salon &amp; Spa Aggregation &amp; Discovery platform</td>\n",
       "      <td>Pune</td>\n",
       "      <td>Dunamis Ventures Pte Ltd</td>\n",
       "      <td>Private Equity</td>\n",
       "      <td>2,250,000</td>\n",
       "      <td>NaN</td>\n",
       "    </tr>\n",
       "    <tr>\n",
       "      <th>17</th>\n",
       "      <td>17</td>\n",
       "      <td>11/07/2017</td>\n",
       "      <td>Flickstree</td>\n",
       "      <td>Consumer Internet</td>\n",
       "      <td>Video Content Discovery Platform</td>\n",
       "      <td>Mumbai</td>\n",
       "      <td>Venture Catalysts, Sourav Ganguly, Ankit Adity...</td>\n",
       "      <td>Seed Funding</td>\n",
       "      <td>464,000</td>\n",
       "      <td>NaN</td>\n",
       "    </tr>\n",
       "    <tr>\n",
       "      <th>18</th>\n",
       "      <td>18</td>\n",
       "      <td>11/07/2017</td>\n",
       "      <td>Design Cafe</td>\n",
       "      <td>Consumer Internet</td>\n",
       "      <td>Online Interior Design platform</td>\n",
       "      <td>Bangalore</td>\n",
       "      <td>Fireside Ventures, Apurva Salarpuria, Sidharth...</td>\n",
       "      <td>Seed Funding</td>\n",
       "      <td>NaN</td>\n",
       "      <td>NaN</td>\n",
       "    </tr>\n",
       "    <tr>\n",
       "      <th>19</th>\n",
       "      <td>19</td>\n",
       "      <td>12/07/2017</td>\n",
       "      <td>Innoviti</td>\n",
       "      <td>Technology</td>\n",
       "      <td>Digital payments solutions</td>\n",
       "      <td>Bangalore</td>\n",
       "      <td>SBI-FMO Fund, Bessemer Venture Partners, Catam...</td>\n",
       "      <td>Private Equity</td>\n",
       "      <td>18,500,000</td>\n",
       "      <td>NaN</td>\n",
       "    </tr>\n",
       "  </tbody>\n",
       "</table>\n",
       "</div>"
      ],
      "text/plain": [
       "    SNo        Date       StartupName   IndustryVertical  \\\n",
       "0     0  01/08/2017          TouchKin         Technology   \n",
       "1     1  02/08/2017           Ethinos         Technology   \n",
       "2     2  02/08/2017      Leverage Edu  Consumer Internet   \n",
       "3     3  02/08/2017              Zepo  Consumer Internet   \n",
       "4     4  02/08/2017      Click2Clinic  Consumer Internet   \n",
       "5     5  01/07/2017     Billion Loans  Consumer Internet   \n",
       "6     6  03/07/2017  Ecolibriumenergy         Technology   \n",
       "7     7  04/07/2017             Droom          eCommerce   \n",
       "8     8  05/07/2017         Jumbotail          eCommerce   \n",
       "9     9  05/07/2017            Moglix          eCommerce   \n",
       "10   10  05/07/2017        Timesaverz  Consumer Internet   \n",
       "11   11  06/07/2017            Minjar         Technology   \n",
       "12   12  06/07/2017       MyCity4kids  Consumer Internet   \n",
       "13   13  07/07/2017          Clip App  Consumer Internet   \n",
       "14   14  07/07/2017       Upwardly.in  Consumer Internet   \n",
       "15   15  10/07/2017        Autorox.co         Technology   \n",
       "16   16  11/07/2017            Fabogo  Consumer Internet   \n",
       "17   17  11/07/2017        Flickstree  Consumer Internet   \n",
       "18   18  11/07/2017       Design Cafe  Consumer Internet   \n",
       "19   19  12/07/2017          Innoviti         Technology   \n",
       "\n",
       "                                          SubVertical CityLocation  \\\n",
       "0                            Predictive Care Platform    Bangalore   \n",
       "1                            Digital Marketing Agency       Mumbai   \n",
       "2       Online platform for Higher Education Services    New Delhi   \n",
       "3                              DIY Ecommerce platform       Mumbai   \n",
       "4                       healthcare service aggregator    Hyderabad   \n",
       "5                       Peer to Peer Lending platform    Bangalore   \n",
       "6                Energy management solutions provider    Ahmedabad   \n",
       "7                  Online marketplace for automobiles      Gurgaon   \n",
       "8             online marketplace for food and grocery    Bangalore   \n",
       "9             B2B marketplace for Industrial products        Noida   \n",
       "10                  Hyperlocal home services provider       Mumbai   \n",
       "11                           Cloud Solutions provider    Bangalore   \n",
       "12  parenting blog and kids’ events discovery plat...      Gurgaon   \n",
       "13                       Digital Media Video platform    Bangalore   \n",
       "14                             MF investment platform    Bangalore   \n",
       "15              Workshop Management Software Platform    Hyderabad   \n",
       "16       Salon & Spa Aggregation & Discovery platform         Pune   \n",
       "17                   Video Content Discovery Platform       Mumbai   \n",
       "18                    Online Interior Design platform    Bangalore   \n",
       "19                         Digital payments solutions    Bangalore   \n",
       "\n",
       "                                        InvestorsName  InvestmentType  \\\n",
       "0                                         Kae Capital  Private Equity   \n",
       "1                          Triton Investment Advisors  Private Equity   \n",
       "2   Kashyap Deorah, Anand Sankeshwar, Deepak Jain,...    Seed Funding   \n",
       "3   Kunal Shah, LetsVenture, Anupam Mittal, Hetal ...    Seed Funding   \n",
       "4                      Narottam Thudi, Shireesh Palle    Seed Funding   \n",
       "5            Reliance Corporate Advisory Services Ltd    Seed Funding   \n",
       "6                                Infuse Ventures, JLL  Private Equity   \n",
       "7     Asset Management (Asia) Ltd, Digital Garage Inc  Private Equity   \n",
       "8       Kalaari Capital, Nexus India Capital Advisors  Private Equity   \n",
       "9   International Finance Corporation, Rocketship,...  Private Equity   \n",
       "10                                               BCCL  Private Equity   \n",
       "11  Blume Ventures, Contrarian Capital India Partn...    Seed Funding   \n",
       "12                                            various    Seed Funding   \n",
       "13                    India Quotient, Shunwei Capital    Seed Funding   \n",
       "14  Sreeram Iyer, Suvo Sarkar, Anita Gupta, Likemi...    Seed Funding   \n",
       "15                                       Mitsui & Co.  Private Equity   \n",
       "16                           Dunamis Ventures Pte Ltd  Private Equity   \n",
       "17  Venture Catalysts, Sourav Ganguly, Ankit Adity...    Seed Funding   \n",
       "18  Fireside Ventures, Apurva Salarpuria, Sidharth...    Seed Funding   \n",
       "19  SBI-FMO Fund, Bessemer Venture Partners, Catam...  Private Equity   \n",
       "\n",
       "   AmountInUSD Remarks  \n",
       "0    1,300,000     NaN  \n",
       "1          NaN     NaN  \n",
       "2          NaN     NaN  \n",
       "3      500,000     NaN  \n",
       "4      850,000     NaN  \n",
       "5    1,000,000     NaN  \n",
       "6    2,600,000     NaN  \n",
       "7   20,000,000     NaN  \n",
       "8    8,500,000     NaN  \n",
       "9   12,000,000     NaN  \n",
       "10   1,000,000     NaN  \n",
       "11         NaN     NaN  \n",
       "12         NaN     NaN  \n",
       "13   1,000,000     NaN  \n",
       "14         NaN     NaN  \n",
       "15   3,000,000     NaN  \n",
       "16   2,250,000     NaN  \n",
       "17     464,000     NaN  \n",
       "18         NaN     NaN  \n",
       "19  18,500,000     NaN  "
      ]
     },
     "execution_count": 1,
     "metadata": {},
     "output_type": "execute_result"
    }
   ],
   "source": [
    "import pandas as pd\n",
    "import numpy as np\n",
    "import seaborn as sns\n",
    "import matplotlib.pyplot as plt\n",
    "sns.set(color_codes=True)\n",
    "startup_df = pd.read_csv(r\"C:\\Users\\kartik singh\\Desktop\\kaggle data\\startup_funding.csv\")\n",
    "startup_df[\"InvestorsName\"].fillna(\"various\",inplace=True)\n",
    "startup_df.head(20)"
   ]
  },
  {
   "cell_type": "code",
   "execution_count": 2,
   "metadata": {
    "collapsed": true
   },
   "outputs": [],
   "source": [
    "date=[]\n",
    "name=[]\n",
    "vertical=[]\n",
    "subvertical=[]\n",
    "city=[]\n",
    "investors=[]\n",
    "Type=[]\n",
    "amount=[]\n",
    "for j,i in startup_df.iterrows():\n",
    "    date.append(i[\"Date\"])\n",
    "    name.append(i[\"StartupName\"])\n",
    "    vertical.append(i[\"IndustryVertical\"])\n",
    "    subvertical.append(i[\"SubVertical\"])\n",
    "    city.append(i[\"CityLocation\"])\n",
    "    investors.append(i[\"InvestorsName\"])\n",
    "    Type.append(i[\"InvestmentType\"])\n",
    "    amount.append(i[\"AmountInUSD\"])"
   ]
  },
  {
   "cell_type": "code",
   "execution_count": 3,
   "metadata": {
    "collapsed": true
   },
   "outputs": [],
   "source": [
    "city_unique = np.unique(city)\n",
    "city_count = []\n",
    "for i in city_unique:\n",
    "    city_count.append(city.count(i)) #count of every city in the contribution\n",
    "city_count_df = pd.DataFrame(city_count, index=city_unique)   \n"
   ]
  },
  {
   "cell_type": "code",
   "execution_count": 4,
   "metadata": {},
   "outputs": [
    {
     "name": "stderr",
     "output_type": "stream",
     "text": [
      "C:\\ProgramData\\Anaconda3\\lib\\site-packages\\seaborn\\categorical.py:1428: FutureWarning: remove_na is deprecated and is a private function. Do not use.\n",
      "  stat_data = remove_na(group_data)\n"
     ]
    },
    {
     "data": {
      "image/png": "[encoded data removed]",
      "text/plain": [
       "<matplotlib.figure.Figure at 0x1bdb5d71860>"
      ]
     },
     "metadata": {},
     "output_type": "display_data"
    }
   ],
   "source": [
    "sns.set()\n",
    "sns.countplot(x=\"CityLocation\", data=startup_df)\n",
    "plt.xticks(rotation=\"vertical\")\n",
    "plt.rcParams[\"figure.figsize\"] = [50,60]\n",
    "plt.show()\n",
    "#this graph shows which cities are best for finding investments for your company"
   ]
  },
  {
   "cell_type": "code",
   "execution_count": 5,
   "metadata": {},
   "outputs": [
    {
     "data": {
      "text/plain": [
       "2372"
      ]
     },
     "execution_count": 5,
     "metadata": {},
     "output_type": "execute_result"
    }
   ],
   "source": [
    "len(investors)"
   ]
  },
  {
   "cell_type": "code",
   "execution_count": 6,
   "metadata": {
    "collapsed": true
   },
   "outputs": [],
   "source": [
    "investors_count=[]\n",
    "for i in investors:\n",
    "    investors_count.append(len(i.split(\",\")))"
   ]
  },
  {
   "cell_type": "code",
   "execution_count": 7,
   "metadata": {},
   "outputs": [
    {
     "data": {
      "text/html": [
       "<div>\n",
       "<style scoped>\n",
       "    .dataframe tbody tr th:only-of-type {\n",
       "        vertical-align: middle;\n",
       "    }\n",
       "\n",
       "    .dataframe tbody tr th {\n",
       "        vertical-align: top;\n",
       "    }\n",
       "\n",
       "    .dataframe thead th {\n",
       "        text-align: right;\n",
       "    }\n",
       "</style>\n",
       "<table border=\"1\" class=\"dataframe\">\n",
       "  <thead>\n",
       "    <tr style=\"text-align: right;\">\n",
       "      <th></th>\n",
       "      <th>name</th>\n",
       "      <th>count</th>\n",
       "    </tr>\n",
       "  </thead>\n",
       "  <tbody>\n",
       "    <tr>\n",
       "      <th>0</th>\n",
       "      <td>TouchKin</td>\n",
       "      <td>1.0</td>\n",
       "    </tr>\n",
       "    <tr>\n",
       "      <th>1</th>\n",
       "      <td>Ethinos</td>\n",
       "      <td>1.0</td>\n",
       "    </tr>\n",
       "    <tr>\n",
       "      <th>2</th>\n",
       "      <td>Leverage Edu</td>\n",
       "      <td>7.0</td>\n",
       "    </tr>\n",
       "    <tr>\n",
       "      <th>3</th>\n",
       "      <td>Zepo</td>\n",
       "      <td>4.0</td>\n",
       "    </tr>\n",
       "    <tr>\n",
       "      <th>4</th>\n",
       "      <td>Click2Clinic</td>\n",
       "      <td>2.0</td>\n",
       "    </tr>\n",
       "  </tbody>\n",
       "</table>\n",
       "</div>"
      ],
      "text/plain": [
       "           name  count\n",
       "0      TouchKin    1.0\n",
       "1       Ethinos    1.0\n",
       "2  Leverage Edu    7.0\n",
       "3          Zepo    4.0\n",
       "4  Click2Clinic    2.0"
      ]
     },
     "execution_count": 7,
     "metadata": {},
     "output_type": "execute_result"
    }
   ],
   "source": [
    "name_df=pd.DataFrame(name,columns=[\"name\"])\n",
    "investor_count_df=pd.DataFrame(investors_count,columns=[\"count\"]).astype(np.float32)\n",
    "data_df = pd.DataFrame()\n",
    "name_df=name_df.join(investor_count_df)\n",
    "name_df.head()"
   ]
  },
  {
   "cell_type": "code",
   "execution_count": 8,
   "metadata": {},
   "outputs": [],
   "source": [
    "#sns.set()\n",
    "#sns.barplot(x=\"name\",y=\"count\", data=name_df)\n",
    "#plt.xticks(rotation=\"vertical\")\n",
    "#plt.rcParams[\"figure.figsize\"] = [50,60]\n",
    "#plt.show()\n",
    "#trying to figure out number of investors attracted by a company.\n",
    "#mission failed: "
   ]
  },
  {
   "cell_type": "code",
   "execution_count": 9,
   "metadata": {},
   "outputs": [
    {
     "name": "stdout",
     "output_type": "stream",
     "text": [
      "Innov8\n",
      "MyChild App\n"
     ]
    }
   ],
   "source": [
    "for j,i in name_df.iterrows():\n",
    "    if i[\"count\"] == max(name_df[\"count\"]):\n",
    "        print(i[\"name\"])"
   ]
  },
  {
   "cell_type": "code",
   "execution_count": 10,
   "metadata": {},
   "outputs": [
    {
     "data": {
      "text/html": [
       "<div>\n",
       "<style scoped>\n",
       "    .dataframe tbody tr th:only-of-type {\n",
       "        vertical-align: middle;\n",
       "    }\n",
       "\n",
       "    .dataframe tbody tr th {\n",
       "        vertical-align: top;\n",
       "    }\n",
       "\n",
       "    .dataframe thead th {\n",
       "        text-align: right;\n",
       "    }\n",
       "</style>\n",
       "<table border=\"1\" class=\"dataframe\">\n",
       "  <thead>\n",
       "    <tr style=\"text-align: right;\">\n",
       "      <th></th>\n",
       "      <th>name</th>\n",
       "      <th>count</th>\n",
       "      <th>vertical</th>\n",
       "    </tr>\n",
       "  </thead>\n",
       "  <tbody>\n",
       "    <tr>\n",
       "      <th>0</th>\n",
       "      <td>TouchKin</td>\n",
       "      <td>1.0</td>\n",
       "      <td>Technology</td>\n",
       "    </tr>\n",
       "    <tr>\n",
       "      <th>1</th>\n",
       "      <td>Ethinos</td>\n",
       "      <td>1.0</td>\n",
       "      <td>Technology</td>\n",
       "    </tr>\n",
       "    <tr>\n",
       "      <th>2</th>\n",
       "      <td>Leverage Edu</td>\n",
       "      <td>7.0</td>\n",
       "      <td>Consumer Internet</td>\n",
       "    </tr>\n",
       "    <tr>\n",
       "      <th>3</th>\n",
       "      <td>Zepo</td>\n",
       "      <td>4.0</td>\n",
       "      <td>Consumer Internet</td>\n",
       "    </tr>\n",
       "    <tr>\n",
       "      <th>4</th>\n",
       "      <td>Click2Clinic</td>\n",
       "      <td>2.0</td>\n",
       "      <td>Consumer Internet</td>\n",
       "    </tr>\n",
       "  </tbody>\n",
       "</table>\n",
       "</div>"
      ],
      "text/plain": [
       "           name  count           vertical\n",
       "0      TouchKin    1.0         Technology\n",
       "1       Ethinos    1.0         Technology\n",
       "2  Leverage Edu    7.0  Consumer Internet\n",
       "3          Zepo    4.0  Consumer Internet\n",
       "4  Click2Clinic    2.0  Consumer Internet"
      ]
     },
     "execution_count": 10,
     "metadata": {},
     "output_type": "execute_result"
    }
   ],
   "source": [
    "vertical_df=pd.DataFrame(vertical,columns=[\"vertical\"])\n",
    "name_df = name_df.join(vertical_df)\n",
    "name_df.head()"
   ]
  },
  {
   "cell_type": "code",
   "execution_count": 11,
   "metadata": {},
   "outputs": [
    {
     "data": {
      "text/plain": [
       "21"
      ]
     },
     "execution_count": 11,
     "metadata": {},
     "output_type": "execute_result"
    }
   ],
   "source": [
    "vertical_unique = np.unique(vertical)\n",
    "leading_verticals_investors_count = []\n",
    "for j,i in name_df.iterrows():\n",
    "    if i[\"count\"] >6:\n",
    "        leading_verticals_investors_count.append(i[\"vertical\"])\n",
    "leading_verticals_investors_count = np.unique(leading_verticals_investors_count) \n",
    "len(leading_verticals_investors_count)"
   ]
  },
  {
   "cell_type": "code",
   "execution_count": 12,
   "metadata": {},
   "outputs": [
    {
     "name": "stdout",
     "output_type": "stream",
     "text": [
      "7.0 Alternate Mobile Monetization platform\n",
      "1502.0 Consumer Internet\n",
      "8.0 Crowd funding platform\n",
      "7.0 Data Science & UX design Learning platform\n",
      "7.0 Doctor Appointment booking app\n",
      "111.0 ECommerce\n",
      "8.0 Easy Business Loans platform\n",
      "9.0 Ecommerce\n",
      "43.0 Education\n",
      "20.0 Finance\n",
      "7.0 Fund Raising Platform\n",
      "7.0 Last Minute Hotel Booking App\n",
      "50.0 Logistics\n",
      "8.0 Mobile Food Ordering app\n",
      "7.0 Mobile Growth HackingPlatform\n",
      "7.0 Online Counselling and psychological support platform\n",
      "7.0 P2P Payments platform\n",
      "7.0 Parents & Kids Online platform\n",
      "582.0 Technology\n",
      "334.0 eCommerce\n",
      "0 nan\n"
     ]
    }
   ],
   "source": [
    "for i in leading_verticals_investors_count:\n",
    "    cnt=0\n",
    "    for j,k in name_df.iterrows():\n",
    "        if k[\"vertical\"] == i:\n",
    "            cnt=cnt+k[\"count\"]\n",
    "    print(cnt,i)        "
   ]
  },
  {
   "cell_type": "code",
   "execution_count": 13,
   "metadata": {
    "collapsed": true
   },
   "outputs": [],
   "source": [
    "#from the about data we can see that \"Consumer Internet\" is the vertical with the most number of investors which means more\n",
    "#people are interested in this vertical."
   ]
  },
  {
   "cell_type": "code",
   "execution_count": 14,
   "metadata": {
    "collapsed": true
   },
   "outputs": [],
   "source": [
    "CI_fundtype=[]\n",
    "for j,i in startup_df.iterrows():\n",
    "    if i[\"IndustryVertical\"] == \"Consumer Internet\":\n",
    "        CI_fundtype.append(i[\"InvestmentType\"])"
   ]
  },
  {
   "cell_type": "code",
   "execution_count": 15,
   "metadata": {},
   "outputs": [
    {
     "name": "stdout",
     "output_type": "stream",
     "text": [
      "3\n",
      "1 Debt Funding\n",
      "298 Private Equity\n",
      "473 Seed Funding\n"
     ]
    }
   ],
   "source": [
    "CI_fundtype_unique=np.unique(CI_fundtype)\n",
    "print(len(CI_fundtype_unique))\n",
    "for i in CI_fundtype_unique:\n",
    "    cnt=0\n",
    "    for j in CI_fundtype:\n",
    "        if j==i:\n",
    "            cnt=cnt+1\n",
    "    print(cnt,i)   \n",
    "#from the output below we get the info that the most demanding startup industry vertical get most of its funding from SEED FUNDING.    "
   ]
  },
  {
   "cell_type": "code",
   "execution_count": 16,
   "metadata": {},
   "outputs": [
    {
     "name": "stdout",
     "output_type": "stream",
     "text": [
      "2\n",
      "150 Private Equity\n",
      "163 Seed Funding\n"
     ]
    }
   ],
   "source": [
    "tech_fundtype=[]\n",
    "for j,i in startup_df.iterrows():\n",
    "    if i[\"IndustryVertical\"] == \"Technology\":\n",
    "        tech_fundtype.append(i[\"InvestmentType\"])\n",
    "tech_fundtype_unique=np.unique(tech_fundtype)\n",
    "print(len(tech_fundtype_unique))\n",
    "for i in tech_fundtype_unique:\n",
    "    cnt=0\n",
    "    for j in tech_fundtype:\n",
    "        if j==i:\n",
    "            cnt=cnt+1\n",
    "    print(cnt,i)\n",
    "#below output shows that technology which is second most demanding vertical has most of its funding mainly from Private Equity and Seed Funding.\n"
   ]
  },
  {
   "cell_type": "code",
   "execution_count": 17,
   "metadata": {},
   "outputs": [
    {
     "name": "stdout",
     "output_type": "stream",
     "text": [
      "2\n",
      "123 Private Equity\n",
      "104 Seed Funding\n"
     ]
    }
   ],
   "source": [
    "EC_fundtype=[]\n",
    "for j,i in startup_df.iterrows():\n",
    "    if (i[\"IndustryVertical\"] == \"ECommerce\") or (i[\"IndustryVertical\"] == \"Ecommerce\") or (i[\"IndustryVertical\"] == \"eCommerce\"):\n",
    "        EC_fundtype.append(i[\"InvestmentType\"])\n",
    "EC_fundtype_unique=np.unique(EC_fundtype)\n",
    "print(len(EC_fundtype_unique))\n",
    "for i in EC_fundtype_unique:\n",
    "    cnt=0\n",
    "    for j in EC_fundtype:\n",
    "        if j==i:\n",
    "            cnt=cnt+1\n",
    "    print(cnt,i)   \n",
    "#below output shows that E-Commerce have their funding mainly of type Private Equity and Seed Funding.    "
   ]
  },
  {
   "cell_type": "code",
   "execution_count": 18,
   "metadata": {},
   "outputs": [],
   "source": [
    "def abc(verti):\n",
    "    a_list = []\n",
    "    for j,i in startup_df.iterrows():\n",
    "        if (i[\"IndustryVertical\"] == verti):\n",
    "            a_list.append((i[\"InvestmentType\"]))\n",
    "    a_list_unique = np.unique(a_list)\n",
    "    b_list=[]\n",
    "    for i in a_list_unique:\n",
    "        cnt=0\n",
    "        for j in a_list:\n",
    "            if j==i:\n",
    "                cnt=cnt+1\n",
    "        b_list.append([cnt,i]) \n",
    "    return b_list    "
   ]
  },
  {
   "cell_type": "code",
   "execution_count": 19,
   "metadata": {},
   "outputs": [
    {
     "data": {
      "text/plain": [
       "array(['Agra', 'Ahmedabad', 'Bangalore', 'Bangalore / Palo Alto',\n",
       "       'Bangalore / SFO', 'Bangalore / San Mateo', 'Bangalore / USA',\n",
       "       'Bangalore/ Bangkok', 'Belgaum', 'Bhopal', 'Boston', 'Chandigarh',\n",
       "       'Chennai', 'Chennai/ Singapore', 'Coimbatore',\n",
       "       'Dallas / Hyderabad', 'Delhi', 'Goa', 'Goa/Hyderabad', 'Gurgaon',\n",
       "       'Gurgaon / SFO', 'Gwalior', 'Hubli', 'Hyderabad', 'Hyderabad/USA',\n",
       "       'India / US', 'Indore', 'Jaipur', 'Jodhpur', 'Kanpur', 'Karur',\n",
       "       'Kerala', 'Kochi', 'Kolkata', 'Kozhikode', 'London', 'Lucknow',\n",
       "       'Missourie', 'Mumbai', 'Mumbai / Global', 'Mumbai / NY',\n",
       "       'Mumbai / UK', 'Nagpur', 'New Delhi', 'New Delhi / California',\n",
       "       'New Delhi / US', 'New Delhi/ Houston', 'New York/ India', 'Noida',\n",
       "       'Noida / Singapore', 'Panaji', 'Pune', 'Pune / Dubai',\n",
       "       'Pune / Singapore', 'Pune / US', 'Pune/Seattle', 'SFO / Bangalore',\n",
       "       'Seattle / Bangalore', 'Siliguri', 'Singapore', 'Surat',\n",
       "       'Trivandrum', 'US', 'US/India', 'USA', 'USA/India', 'Udaipur',\n",
       "       'Udupi', 'Vadodara', 'Varanasi', 'bangalore', 'nan'], dtype='<U22')"
      ]
     },
     "execution_count": 19,
     "metadata": {},
     "output_type": "execute_result"
    }
   ],
   "source": [
    "city_unique"
   ]
  },
  {
   "cell_type": "code",
   "execution_count": 20,
   "metadata": {},
   "outputs": [
    {
     "data": {
      "text/plain": [
       "{'Debt Funding': 1, 'Private Equity': 11, 'Seed Funding': 23}"
      ]
     },
     "execution_count": 20,
     "metadata": {},
     "output_type": "execute_result"
    }
   ],
   "source": [
    "def city_wise_type_list(city):\n",
    "    a_list=[]\n",
    "    b_list = {}\n",
    "    for j,i in startup_df.iterrows():\n",
    "        if i[\"CityLocation\"] == city:\n",
    "            a_list.append(i[\"InvestmentType\"])\n",
    "    a_list_unique = np.unique(a_list)\n",
    "    for i in a_list_unique:\n",
    "        cnt=0\n",
    "        for j in a_list:\n",
    "            if i==j:\n",
    "                cnt=cnt+1\n",
    "        b_list[i]=cnt \n",
    "    return b_list    \n",
    "city_wise_type_list(\"Ahmedabad\")"
   ]
  },
  {
   "cell_type": "code",
   "execution_count": 21,
   "metadata": {},
   "outputs": [],
   "source": [
    "type_unique = np.unique(Type)\n"
   ]
  },
  {
   "cell_type": "code",
   "execution_count": 22,
   "metadata": {},
   "outputs": [],
   "source": [
    "graph_df = pd.DataFrame(index=city_unique)\n",
    "graph_df = graph_df.join(pd.DataFrame(columns=type_unique))\n",
    "len(graph_df)\n",
    "for key,value in city_wise_type_list(\"Agra\").items():\n",
    "    graph_df.loc[\"Agra\":\"Agra\",key:key] = value"
   ]
  },
  {
   "cell_type": "code",
   "execution_count": 23,
   "metadata": {},
   "outputs": [],
   "source": [
    "for i in city_unique:\n",
    "    for key,value in city_wise_type_list(i).items():\n",
    "        graph_df.loc[i:i,key:key] = value"
   ]
  },
  {
   "cell_type": "code",
   "execution_count": 24,
   "metadata": {},
   "outputs": [],
   "source": [
    "graph_df = graph_df.fillna(0)\n",
    "#this gives us the info that which city is giving which type of funding "
   ]
  },
  {
   "cell_type": "code",
   "execution_count": 27,
   "metadata": {},
   "outputs": [
    {
     "ename": "TypeError",
     "evalue": "a float is required",
     "traceback": [
      "\u001b[1;31m---------------------------------------------------------------------------\u001b[0m",
      "\u001b[1;31mTypeError\u001b[0m                                 Traceback (most recent call last)",
      "\u001b[1;32m<ipython-input-27-cdcdfecf2b7f>\u001b[0m in \u001b[0;36m<module>\u001b[1;34m()\u001b[0m\n\u001b[0;32m      2\u001b[0m \u001b[0mNaN_amount\u001b[0m\u001b[1;33m=\u001b[0m\u001b[1;33m[\u001b[0m\u001b[1;33m]\u001b[0m\u001b[1;33m\u001b[0m\u001b[0m\n\u001b[0;32m      3\u001b[0m \u001b[1;33m\u001b[0m\u001b[0m\n\u001b[1;32m----> 4\u001b[1;33m \u001b[1;32mif\u001b[0m \u001b[0mmath\u001b[0m\u001b[1;33m.\u001b[0m\u001b[0misnan\u001b[0m\u001b[1;33m(\u001b[0m\u001b[1;32mNone\u001b[0m\u001b[1;33m)\u001b[0m\u001b[1;33m:\u001b[0m\u001b[1;33m\u001b[0m\u001b[0m\n\u001b[0m\u001b[0;32m      5\u001b[0m     \u001b[0mprint\u001b[0m\u001b[1;33m(\u001b[0m\u001b[1;34m\"kjh\"\u001b[0m\u001b[1;33m)\u001b[0m\u001b[1;33m\u001b[0m\u001b[0m\n",
      "\u001b[1;31mTypeError\u001b[0m: a float is required"
     ],
     "output_type": "error"
    }
   ],
   "source": [
    "import math\n",
    "NaN_amount=[]\n",
    "\n"
   ]
  },
  {
   "cell_type": "code",
   "execution_count": null,
   "metadata": {},
   "outputs": [],
   "source": [
    "startup_df.iloc[0,8]"
   ]
  },
  {
   "cell_type": "code",
   "execution_count": null,
   "metadata": {
    "collapsed": true
   },
   "outputs": [],
   "source": []
  },
  {
   "cell_type": "code",
   "execution_count": null,
   "metadata": {
    "collapsed": true
   },
   "outputs": [],
   "source": []
  },
  {
   "cell_type": "code",
   "execution_count": null,
   "metadata": {
    "collapsed": true
   },
   "outputs": [],
   "source": []
  },
  {
   "cell_type": "code",
   "execution_count": null,
   "metadata": {
    "collapsed": true
   },
   "outputs": [],
   "source": []
  },
  {
   "cell_type": "code",
   "execution_count": null,
   "metadata": {
    "collapsed": true
   },
   "outputs": [],
   "source": []
  },
  {
   "cell_type": "code",
   "execution_count": null,
   "metadata": {
    "collapsed": true
   },
   "outputs": [],
   "source": []
  },
  {
   "cell_type": "code",
   "execution_count": null,
   "metadata": {
    "collapsed": true
   },
   "outputs": [],
   "source": []
  },
  {
   "cell_type": "code",
   "execution_count": null,
   "metadata": {
    "collapsed": true
   },
   "outputs": [],
   "source": []
  },
  {
   "cell_type": "code",
   "execution_count": null,
   "metadata": {
    "collapsed": true
   },
   "outputs": [],
   "source": []
  },
  {
   "cell_type": "code",
   "execution_count": null,
   "metadata": {
    "collapsed": true
   },
   "outputs": [],
   "source": []
  },
  {
   "cell_type": "code",
   "execution_count": null,
   "metadata": {
    "collapsed": true
   },
   "outputs": [],
   "source": []
  },
  {
   "cell_type": "code",
   "execution_count": null,
   "metadata": {
    "collapsed": true
   },
   "outputs": [],
   "source": []
  },
  {
   "cell_type": "code",
   "execution_count": null,
   "metadata": {
    "collapsed": true
   },
   "outputs": [],
   "source": []
  },
  {
   "cell_type": "code",
   "execution_count": null,
   "metadata": {
    "collapsed": true
   },
   "outputs": [],
   "source": []
  },
  {
   "cell_type": "code",
   "execution_count": null,
   "metadata": {
    "collapsed": true
   },
   "outputs": [],
   "source": []
  },
  {
   "cell_type": "code",
   "execution_count": null,
   "metadata": {
    "collapsed": true
   },
   "outputs": [],
   "source": []
  }
 ],
 "metadata": {
  "kernelspec": {
   "display_name": "Python 3",
   "language": "python",
   "name": "python3"
  },
  "language_info": {
   "codemirror_mode": {
    "name": "ipython",
    "version": 3
   },
   "file_extension": ".py",
   "mimetype": "text/x-python",
   "name": "python",
   "nbconvert_exporter": "python",
   "pygments_lexer": "ipython3",
   "version": "3.5.4"
  }
 },
 "nbformat": 4,
 "nbformat_minor": 2
}
